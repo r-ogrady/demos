{
 "cells": [
  {
   "cell_type": "markdown",
   "id": "f4c4a085",
   "metadata": {},
   "source": [
    "# Knowledge Graphs - Pizza\n",
    "\n",
    "Here, we demonstrate a variety of tasks with knowledge graphs. We work with a small dataset with information on pizza restaurants in the US.\n",
    "\n",
    "**Work flow**\n",
    "1. Initial exploration of data - focus on anomalies and checking for uniqueness (for URIs)\n",
    "2. Build a knowledge graph by writing functions to add triples\n",
    "3. Connect to an external KG (Google)\n",
    "4. Apply reasoning to extend our KG\n",
    "5. Perform SPARQL queries on our KG\n",
    "6. Check the alignment between two ontologies\n",
    "\n",
    "**Notes**\n",
    "* isub and lookup are scripts not included here"
   ]
  },
  {
   "cell_type": "code",
   "execution_count": 28,
   "id": "45de0849",
   "metadata": {},
   "outputs": [],
   "source": [
    "from owlready2 import *"
   ]
  },
  {
   "cell_type": "code",
   "execution_count": 29,
   "id": "8209c7f6",
   "metadata": {},
   "outputs": [],
   "source": [
    "from rdflib import Graph\n",
    "from rdflib import URIRef, BNode, Literal\n",
    "from rdflib import Namespace\n",
    "from rdflib.namespace import OWL, RDF, RDFS, FOAF, XSD\n",
    "from rdflib.util import guess_format\n",
    "import pandas as pd\n",
    "import re\n",
    "import owlrl\n",
    "from isub import isub\n",
    "from lookup import GoogleKGLookup\n",
    "from time import time"
   ]
  },
  {
   "cell_type": "markdown",
   "id": "039b3166",
   "metadata": {},
   "source": [
    "## Tabular Data to Knowledge Graph"
   ]
  },
  {
   "cell_type": "markdown",
   "id": "59491174",
   "metadata": {},
   "source": [
    "### Load data and exploratory analysis"
   ]
  },
  {
   "cell_type": "code",
   "execution_count": null,
   "id": "24790ab9",
   "metadata": {},
   "outputs": [],
   "source": [
    "# load data into a dataframe\n",
    "df = pd.read_csv(\"data/IN3067-INM713_coursework_data_pizza_500.csv\")"
   ]
  },
  {
   "cell_type": "code",
   "execution_count": 31,
   "id": "ee9abc60",
   "metadata": {},
   "outputs": [
    {
     "data": {
      "text/html": [
       "<div>\n",
       "<style scoped>\n",
       "    .dataframe tbody tr th:only-of-type {\n",
       "        vertical-align: middle;\n",
       "    }\n",
       "\n",
       "    .dataframe tbody tr th {\n",
       "        vertical-align: top;\n",
       "    }\n",
       "\n",
       "    .dataframe thead th {\n",
       "        text-align: right;\n",
       "    }\n",
       "</style>\n",
       "<table border=\"1\" class=\"dataframe\">\n",
       "  <thead>\n",
       "    <tr style=\"text-align: right;\">\n",
       "      <th></th>\n",
       "      <th>name</th>\n",
       "      <th>address</th>\n",
       "      <th>city</th>\n",
       "      <th>country</th>\n",
       "      <th>postcode</th>\n",
       "      <th>state</th>\n",
       "      <th>categories</th>\n",
       "      <th>menu item</th>\n",
       "      <th>item value</th>\n",
       "      <th>currency</th>\n",
       "      <th>item description</th>\n",
       "    </tr>\n",
       "  </thead>\n",
       "  <tbody>\n",
       "    <tr>\n",
       "      <th>0</th>\n",
       "      <td>Little Pizza Paradise</td>\n",
       "      <td>Cascade Village Mall Across From Target</td>\n",
       "      <td>Bend</td>\n",
       "      <td>US</td>\n",
       "      <td>97701.0</td>\n",
       "      <td>OR</td>\n",
       "      <td>Pizza Place</td>\n",
       "      <td>Bianca Pizza</td>\n",
       "      <td>22.50</td>\n",
       "      <td>USD</td>\n",
       "      <td>NaN</td>\n",
       "    </tr>\n",
       "    <tr>\n",
       "      <th>1</th>\n",
       "      <td>Little Pizza Paradise</td>\n",
       "      <td>Cascade Village Mall Across From Target</td>\n",
       "      <td>Bend</td>\n",
       "      <td>US</td>\n",
       "      <td>97701.0</td>\n",
       "      <td>OR</td>\n",
       "      <td>Pizza Place</td>\n",
       "      <td>Cheese Pizza</td>\n",
       "      <td>18.95</td>\n",
       "      <td>USD</td>\n",
       "      <td>NaN</td>\n",
       "    </tr>\n",
       "    <tr>\n",
       "      <th>2</th>\n",
       "      <td>The Brentwood</td>\n",
       "      <td>148 S Barrington Ave</td>\n",
       "      <td>Los Angeles</td>\n",
       "      <td>US</td>\n",
       "      <td>90049.0</td>\n",
       "      <td>Brentwood</td>\n",
       "      <td>American Restaurant,Bar,Bakery</td>\n",
       "      <td>Pizza, Margherita</td>\n",
       "      <td>12.00</td>\n",
       "      <td>USD</td>\n",
       "      <td>NaN</td>\n",
       "    </tr>\n",
       "    <tr>\n",
       "      <th>3</th>\n",
       "      <td>The Brentwood</td>\n",
       "      <td>148 S Barrington Ave</td>\n",
       "      <td>Los Angeles</td>\n",
       "      <td>US</td>\n",
       "      <td>90049.0</td>\n",
       "      <td>Brentwood</td>\n",
       "      <td>American Restaurant,Bar,Bakery</td>\n",
       "      <td>Pizza, Mushroom</td>\n",
       "      <td>13.00</td>\n",
       "      <td>USD</td>\n",
       "      <td>NaN</td>\n",
       "    </tr>\n",
       "    <tr>\n",
       "      <th>4</th>\n",
       "      <td>The Brentwood</td>\n",
       "      <td>148 S Barrington Ave</td>\n",
       "      <td>Los Angeles</td>\n",
       "      <td>US</td>\n",
       "      <td>90049.0</td>\n",
       "      <td>Brentwood</td>\n",
       "      <td>American Restaurant,Bar,Bakery</td>\n",
       "      <td>Pizza, Puttenesca</td>\n",
       "      <td>13.00</td>\n",
       "      <td>USD</td>\n",
       "      <td>Olives, onions, capers, tomatoes</td>\n",
       "    </tr>\n",
       "  </tbody>\n",
       "</table>\n",
       "</div>"
      ],
      "text/plain": [
       "                    name                                  address  \\\n",
       "0  Little Pizza Paradise  Cascade Village Mall Across From Target   \n",
       "1  Little Pizza Paradise  Cascade Village Mall Across From Target   \n",
       "2          The Brentwood                     148 S Barrington Ave   \n",
       "3          The Brentwood                     148 S Barrington Ave   \n",
       "4          The Brentwood                     148 S Barrington Ave   \n",
       "\n",
       "          city country  postcode      state                      categories  \\\n",
       "0         Bend      US   97701.0         OR                     Pizza Place   \n",
       "1         Bend      US   97701.0         OR                     Pizza Place   \n",
       "2  Los Angeles      US   90049.0  Brentwood  American Restaurant,Bar,Bakery   \n",
       "3  Los Angeles      US   90049.0  Brentwood  American Restaurant,Bar,Bakery   \n",
       "4  Los Angeles      US   90049.0  Brentwood  American Restaurant,Bar,Bakery   \n",
       "\n",
       "           menu item  item value currency                  item description  \n",
       "0       Bianca Pizza       22.50      USD                               NaN  \n",
       "1       Cheese Pizza       18.95      USD                               NaN  \n",
       "2  Pizza, Margherita       12.00      USD                               NaN  \n",
       "3    Pizza, Mushroom       13.00      USD                               NaN  \n",
       "4  Pizza, Puttenesca       13.00      USD  Olives, onions, capers, tomatoes  "
      ]
     },
     "execution_count": 31,
     "metadata": {},
     "output_type": "execute_result"
    }
   ],
   "source": [
    "# return snapshot of data\n",
    "df.head()"
   ]
  },
  {
   "cell_type": "code",
   "execution_count": 32,
   "id": "27aa7efe",
   "metadata": {},
   "outputs": [
    {
     "name": "stdout",
     "output_type": "stream",
     "text": [
      "<class 'pandas.core.frame.DataFrame'>\n",
      "RangeIndex: 501 entries, 0 to 500\n",
      "Data columns (total 11 columns):\n",
      " #   Column            Non-Null Count  Dtype  \n",
      "---  ------            --------------  -----  \n",
      " 0   name              501 non-null    object \n",
      " 1   address           501 non-null    object \n",
      " 2   city              501 non-null    object \n",
      " 3   country           501 non-null    object \n",
      " 4   postcode          491 non-null    float64\n",
      " 5   state             501 non-null    object \n",
      " 6   categories        501 non-null    object \n",
      " 7   menu item         501 non-null    object \n",
      " 8   item value        423 non-null    float64\n",
      " 9   currency          426 non-null    object \n",
      " 10  item description  176 non-null    object \n",
      "dtypes: float64(2), object(9)\n",
      "memory usage: 43.2+ KB\n"
     ]
    }
   ],
   "source": [
    "# check table info\n",
    "df.info()"
   ]
  },
  {
   "cell_type": "code",
   "execution_count": 33,
   "id": "81389f0f",
   "metadata": {},
   "outputs": [
    {
     "data": {
      "text/plain": [
       "name                  0\n",
       "address               0\n",
       "city                  0\n",
       "country               0\n",
       "postcode             10\n",
       "state                 0\n",
       "categories            0\n",
       "menu item             0\n",
       "item value           78\n",
       "currency             75\n",
       "item description    325\n",
       "dtype: int64"
      ]
     },
     "execution_count": 33,
     "metadata": {},
     "output_type": "execute_result"
    }
   ],
   "source": [
    "# check nan values in columns\n",
    "df.isna().sum()"
   ]
  },
  {
   "cell_type": "code",
   "execution_count": 34,
   "id": "2c03c98a",
   "metadata": {},
   "outputs": [
    {
     "data": {
      "text/plain": [
       "name                151\n",
       "address             153\n",
       "city                132\n",
       "country               1\n",
       "postcode            147\n",
       "state                74\n",
       "categories          121\n",
       "menu item           311\n",
       "item value          129\n",
       "currency              1\n",
       "item description    169\n",
       "dtype: int64"
      ]
     },
     "execution_count": 34,
     "metadata": {},
     "output_type": "execute_result"
    }
   ],
   "source": [
    "# check uniqueness in columns - important for URIs\n",
    "df.nunique()"
   ]
  },
  {
   "cell_type": "markdown",
   "id": "2f95ee53",
   "metadata": {},
   "source": [
    "We can infer that country is always \"US\" and currency is always \"USD\"."
   ]
  },
  {
   "cell_type": "code",
   "execution_count": 35,
   "id": "9afe5205",
   "metadata": {},
   "outputs": [
    {
     "data": {
      "text/plain": [
       "count    423.000000\n",
       "mean      12.249740\n",
       "std        9.360744\n",
       "min        0.590000\n",
       "25%        6.990000\n",
       "50%       11.950000\n",
       "75%       16.950000\n",
       "max      116.990000\n",
       "Name: item value, dtype: float64"
      ]
     },
     "execution_count": 35,
     "metadata": {},
     "output_type": "execute_result"
    }
   ],
   "source": [
    "# check item values make sense\n",
    "df[\"item value\"].describe()"
   ]
  },
  {
   "cell_type": "markdown",
   "id": "dbb5d8f0",
   "metadata": {},
   "source": [
    "116.99 is very expensive! Investigate further..."
   ]
  },
  {
   "cell_type": "code",
   "execution_count": null,
   "id": "3bcabfe4",
   "metadata": {},
   "outputs": [
    {
     "data": {
      "text/html": [
       "<div>\n",
       "<style scoped>\n",
       "    .dataframe tbody tr th:only-of-type {\n",
       "        vertical-align: middle;\n",
       "    }\n",
       "\n",
       "    .dataframe tbody tr th {\n",
       "        vertical-align: top;\n",
       "    }\n",
       "\n",
       "    .dataframe thead th {\n",
       "        text-align: right;\n",
       "    }\n",
       "</style>\n",
       "<table border=\"1\" class=\"dataframe\">\n",
       "  <thead>\n",
       "    <tr style=\"text-align: right;\">\n",
       "      <th></th>\n",
       "      <th>name</th>\n",
       "      <th>address</th>\n",
       "      <th>city</th>\n",
       "      <th>country</th>\n",
       "      <th>postcode</th>\n",
       "      <th>state</th>\n",
       "      <th>categories</th>\n",
       "      <th>menu item</th>\n",
       "      <th>item value</th>\n",
       "      <th>currency</th>\n",
       "      <th>item description</th>\n",
       "    </tr>\n",
       "  </thead>\n",
       "  <tbody>\n",
       "    <tr>\n",
       "      <th>194</th>\n",
       "      <td>Riccardo's Pizza</td>\n",
       "      <td>522 Saddle River Rd</td>\n",
       "      <td>Saddle Brook</td>\n",
       "      <td>US</td>\n",
       "      <td>7663.0</td>\n",
       "      <td>NJ</td>\n",
       "      <td>Italian Restaurant,Restaurant</td>\n",
       "      <td>Order 3 Large Pizzas and Get The 4th Pizza Free</td>\n",
       "      <td>37.99</td>\n",
       "      <td>USD</td>\n",
       "      <td>NaN</td>\n",
       "    </tr>\n",
       "    <tr>\n",
       "      <th>226</th>\n",
       "      <td>California Pizza Kitchen</td>\n",
       "      <td>10300 Forest Hill Blvd</td>\n",
       "      <td>Wellington</td>\n",
       "      <td>US</td>\n",
       "      <td>33414.0</td>\n",
       "      <td>Village Of Wellington</td>\n",
       "      <td>Pizza Place,Take Out Restaurants,American Rest...</td>\n",
       "      <td>Pizza</td>\n",
       "      <td>116.99</td>\n",
       "      <td>USD</td>\n",
       "      <td>NaN</td>\n",
       "    </tr>\n",
       "    <tr>\n",
       "      <th>483</th>\n",
       "      <td>California Pizza Kitchen</td>\n",
       "      <td>3401 Esperanza Xing</td>\n",
       "      <td>Austin</td>\n",
       "      <td>US</td>\n",
       "      <td>78758.0</td>\n",
       "      <td>TX</td>\n",
       "      <td>Pizza,Take Out Restaurants,Restaurants,America...</td>\n",
       "      <td>Pizza</td>\n",
       "      <td>116.99</td>\n",
       "      <td>USD</td>\n",
       "      <td>NaN</td>\n",
       "    </tr>\n",
       "  </tbody>\n",
       "</table>\n",
       "</div>"
      ],
      "text/plain": [
       "                         name                 address          city country  \\\n",
       "194          Riccardo's Pizza     522 Saddle River Rd  Saddle Brook      US   \n",
       "226  California Pizza Kitchen  10300 Forest Hill Blvd    Wellington      US   \n",
       "483  California Pizza Kitchen     3401 Esperanza Xing        Austin      US   \n",
       "\n",
       "     postcode                  state  \\\n",
       "194    7663.0                     NJ   \n",
       "226   33414.0  Village Of Wellington   \n",
       "483   78758.0                     TX   \n",
       "\n",
       "                                            categories  \\\n",
       "194                      Italian Restaurant,Restaurant   \n",
       "226  Pizza Place,Take Out Restaurants,American Rest...   \n",
       "483  Pizza,Take Out Restaurants,Restaurants,America...   \n",
       "\n",
       "                                           menu item  item value currency  \\\n",
       "194  Order 3 Large Pizzas and Get The 4th Pizza Free       37.99      USD   \n",
       "226                                            Pizza      116.99      USD   \n",
       "483                                            Pizza      116.99      USD   \n",
       "\n",
       "    item description  \n",
       "194              NaN  \n",
       "226              NaN  \n",
       "483              NaN  "
      ]
     },
     "execution_count": 36,
     "metadata": {},
     "output_type": "execute_result"
    }
   ],
   "source": [
    "# check for item value outliers. Return rows with item value +2sd's from mean\n",
    "iv_mean = df[\"item value\"].mean()\n",
    "iv_sd = df[\"item value\"].std()\n",
    "df[df[\"item value\"] > iv_mean + 2 * iv_sd]"
   ]
  },
  {
   "cell_type": "markdown",
   "id": "3db05ff1",
   "metadata": {},
   "source": [
    "We can see 37.99 is actually an offer, but 116.99 appears to be erroneous.\n",
    "\n",
    "Also, US zip codes should be <5 digits> or <5 dgits>-<4 digits>. Given the dtype restriction, none could have the latter format. Investigate further..."
   ]
  },
  {
   "cell_type": "code",
   "execution_count": null,
   "id": "c794b01e",
   "metadata": {},
   "outputs": [
    {
     "data": {
      "text/plain": [
       "(1566, 99709)"
      ]
     },
     "execution_count": 37,
     "metadata": {},
     "output_type": "execute_result"
    }
   ],
   "source": [
    "# return min and max zip codes\n",
    "int(df[\"postcode\"].min()), int(df[\"postcode\"].max())"
   ]
  },
  {
   "cell_type": "markdown",
   "id": "f1746dbd",
   "metadata": {},
   "source": [
    "We can see a mix of 4 and 5 digit zip codes. These issues are important to note but do not interfere with our subsequent tasks\n",
    "\n",
    "Also, the outlier table for item value shows restaurant name is not unique (California Pizza Kitchen in Wellington and Austin). Investigate how we can create a unique name for URIs..."
   ]
  },
  {
   "cell_type": "code",
   "execution_count": null,
   "id": "455483ee",
   "metadata": {},
   "outputs": [
    {
     "name": "stdout",
     "output_type": "stream",
     "text": [
      "Example: Little Pizza Paradise Cascade Village Mall Across From Target\n",
      "Unique count: 153\n"
     ]
    }
   ],
   "source": [
    "# as a baseline, name + address should be unique, but unlinkely to look nice!\n",
    "unique_name1 = df[\"name\"] + \" \" + df[\"address\"]\n",
    "print(f\"Example: {unique_name1[0]}\")\n",
    "print(f\"Unique count: {len(unique_name1.unique())}\")"
   ]
  },
  {
   "cell_type": "code",
   "execution_count": null,
   "id": "3bf2f25e",
   "metadata": {},
   "outputs": [
    {
     "name": "stdout",
     "output_type": "stream",
     "text": [
      "Example: Little Pizza Paradise in Bend\n",
      "Unique count: 153\n"
     ]
    }
   ],
   "source": [
    "# alternative, name + city\n",
    "# add \" in \" for clarity\n",
    "unique_name2 = df[\"name\"] + \" in \" + df[\"city\"]\n",
    "print(f\"Example: {unique_name2[0]}\")\n",
    "print(f\"Unique count: {len(unique_name2.unique())}\")"
   ]
  },
  {
   "cell_type": "markdown",
   "id": "1180f5bf",
   "metadata": {},
   "source": [
    "name + city has same unique count and looks better. Similarly, as instructed, link menu item to restaurant. But first..."
   ]
  },
  {
   "cell_type": "markdown",
   "id": "fd53d5d6",
   "metadata": {},
   "source": [
    "#### Preimplimentation data fixes"
   ]
  },
  {
   "cell_type": "code",
   "execution_count": null,
   "id": "4c2828f9",
   "metadata": {},
   "outputs": [
    {
     "data": {
      "text/html": [
       "<div>\n",
       "<style scoped>\n",
       "    .dataframe tbody tr th:only-of-type {\n",
       "        vertical-align: middle;\n",
       "    }\n",
       "\n",
       "    .dataframe tbody tr th {\n",
       "        vertical-align: top;\n",
       "    }\n",
       "\n",
       "    .dataframe thead th {\n",
       "        text-align: right;\n",
       "    }\n",
       "</style>\n",
       "<table border=\"1\" class=\"dataframe\">\n",
       "  <thead>\n",
       "    <tr style=\"text-align: right;\">\n",
       "      <th></th>\n",
       "      <th>name</th>\n",
       "      <th>address</th>\n",
       "      <th>city</th>\n",
       "      <th>country</th>\n",
       "      <th>postcode</th>\n",
       "      <th>state</th>\n",
       "      <th>categories</th>\n",
       "      <th>menu item</th>\n",
       "      <th>item value</th>\n",
       "      <th>currency</th>\n",
       "      <th>item description</th>\n",
       "      <th>name_unique</th>\n",
       "      <th>menu_item_linked</th>\n",
       "      <th>state_fixed</th>\n",
       "      <th>address_builder</th>\n",
       "      <th>menu_detail</th>\n",
       "      <th>item_value2</th>\n",
       "    </tr>\n",
       "  </thead>\n",
       "  <tbody>\n",
       "    <tr>\n",
       "      <th>0</th>\n",
       "      <td>Little Pizza Paradise</td>\n",
       "      <td>Cascade Village Mall Across From Target</td>\n",
       "      <td>Bend</td>\n",
       "      <td>US</td>\n",
       "      <td>97701.0</td>\n",
       "      <td>OR</td>\n",
       "      <td>Pizza Place</td>\n",
       "      <td>Bianca Pizza</td>\n",
       "      <td>22.50</td>\n",
       "      <td>USD</td>\n",
       "      <td>NaN</td>\n",
       "      <td>Little Pizza Paradise in Bend</td>\n",
       "      <td>Bianca Pizza at Little Pizza Paradise in Bend</td>\n",
       "      <td>OR</td>\n",
       "      <td>address Cascade Village Mall Across From Targe...</td>\n",
       "      <td>Bianca Pizza nan</td>\n",
       "      <td>22.50USD</td>\n",
       "    </tr>\n",
       "    <tr>\n",
       "      <th>1</th>\n",
       "      <td>Little Pizza Paradise</td>\n",
       "      <td>Cascade Village Mall Across From Target</td>\n",
       "      <td>Bend</td>\n",
       "      <td>US</td>\n",
       "      <td>97701.0</td>\n",
       "      <td>OR</td>\n",
       "      <td>Pizza Place</td>\n",
       "      <td>Cheese Pizza</td>\n",
       "      <td>18.95</td>\n",
       "      <td>USD</td>\n",
       "      <td>NaN</td>\n",
       "      <td>Little Pizza Paradise in Bend</td>\n",
       "      <td>Cheese Pizza at Little Pizza Paradise in Bend</td>\n",
       "      <td>OR</td>\n",
       "      <td>address Cascade Village Mall Across From Targe...</td>\n",
       "      <td>Cheese Pizza nan</td>\n",
       "      <td>18.95USD</td>\n",
       "    </tr>\n",
       "    <tr>\n",
       "      <th>2</th>\n",
       "      <td>The Brentwood</td>\n",
       "      <td>148 S Barrington Ave</td>\n",
       "      <td>Los Angeles</td>\n",
       "      <td>US</td>\n",
       "      <td>90049.0</td>\n",
       "      <td>Brentwood</td>\n",
       "      <td>American Restaurant,Bar,Bakery</td>\n",
       "      <td>Pizza, Margherita</td>\n",
       "      <td>12.00</td>\n",
       "      <td>USD</td>\n",
       "      <td>NaN</td>\n",
       "      <td>The Brentwood in Los Angeles</td>\n",
       "      <td>Pizza, Margherita at The Brentwood in Los Angeles</td>\n",
       "      <td></td>\n",
       "      <td>address 148 S Barrington Ave Los Angeles</td>\n",
       "      <td>Pizza, Margherita nan</td>\n",
       "      <td>12.00USD</td>\n",
       "    </tr>\n",
       "    <tr>\n",
       "      <th>3</th>\n",
       "      <td>The Brentwood</td>\n",
       "      <td>148 S Barrington Ave</td>\n",
       "      <td>Los Angeles</td>\n",
       "      <td>US</td>\n",
       "      <td>90049.0</td>\n",
       "      <td>Brentwood</td>\n",
       "      <td>American Restaurant,Bar,Bakery</td>\n",
       "      <td>Pizza, Mushroom</td>\n",
       "      <td>13.00</td>\n",
       "      <td>USD</td>\n",
       "      <td>NaN</td>\n",
       "      <td>The Brentwood in Los Angeles</td>\n",
       "      <td>Pizza, Mushroom at The Brentwood in Los Angeles</td>\n",
       "      <td></td>\n",
       "      <td>address 148 S Barrington Ave Los Angeles</td>\n",
       "      <td>Pizza, Mushroom nan</td>\n",
       "      <td>13.00USD</td>\n",
       "    </tr>\n",
       "    <tr>\n",
       "      <th>4</th>\n",
       "      <td>The Brentwood</td>\n",
       "      <td>148 S Barrington Ave</td>\n",
       "      <td>Los Angeles</td>\n",
       "      <td>US</td>\n",
       "      <td>90049.0</td>\n",
       "      <td>Brentwood</td>\n",
       "      <td>American Restaurant,Bar,Bakery</td>\n",
       "      <td>Pizza, Puttenesca</td>\n",
       "      <td>13.00</td>\n",
       "      <td>USD</td>\n",
       "      <td>Olives, onions, capers, tomatoes</td>\n",
       "      <td>The Brentwood in Los Angeles</td>\n",
       "      <td>Pizza, Puttenesca at The Brentwood in Los Angeles</td>\n",
       "      <td></td>\n",
       "      <td>address 148 S Barrington Ave Los Angeles</td>\n",
       "      <td>Pizza, Puttenesca Olives, onions, capers, toma...</td>\n",
       "      <td>13.00USD</td>\n",
       "    </tr>\n",
       "  </tbody>\n",
       "</table>\n",
       "</div>"
      ],
      "text/plain": [
       "                    name                                  address  \\\n",
       "0  Little Pizza Paradise  Cascade Village Mall Across From Target   \n",
       "1  Little Pizza Paradise  Cascade Village Mall Across From Target   \n",
       "2          The Brentwood                     148 S Barrington Ave   \n",
       "3          The Brentwood                     148 S Barrington Ave   \n",
       "4          The Brentwood                     148 S Barrington Ave   \n",
       "\n",
       "          city country  postcode      state                      categories  \\\n",
       "0         Bend      US   97701.0         OR                     Pizza Place   \n",
       "1         Bend      US   97701.0         OR                     Pizza Place   \n",
       "2  Los Angeles      US   90049.0  Brentwood  American Restaurant,Bar,Bakery   \n",
       "3  Los Angeles      US   90049.0  Brentwood  American Restaurant,Bar,Bakery   \n",
       "4  Los Angeles      US   90049.0  Brentwood  American Restaurant,Bar,Bakery   \n",
       "\n",
       "           menu item  item value currency                  item description  \\\n",
       "0       Bianca Pizza       22.50      USD                               NaN   \n",
       "1       Cheese Pizza       18.95      USD                               NaN   \n",
       "2  Pizza, Margherita       12.00      USD                               NaN   \n",
       "3    Pizza, Mushroom       13.00      USD                               NaN   \n",
       "4  Pizza, Puttenesca       13.00      USD  Olives, onions, capers, tomatoes   \n",
       "\n",
       "                     name_unique  \\\n",
       "0  Little Pizza Paradise in Bend   \n",
       "1  Little Pizza Paradise in Bend   \n",
       "2   The Brentwood in Los Angeles   \n",
       "3   The Brentwood in Los Angeles   \n",
       "4   The Brentwood in Los Angeles   \n",
       "\n",
       "                                    menu_item_linked state_fixed  \\\n",
       "0      Bianca Pizza at Little Pizza Paradise in Bend          OR   \n",
       "1      Cheese Pizza at Little Pizza Paradise in Bend          OR   \n",
       "2  Pizza, Margherita at The Brentwood in Los Angeles               \n",
       "3    Pizza, Mushroom at The Brentwood in Los Angeles               \n",
       "4  Pizza, Puttenesca at The Brentwood in Los Angeles               \n",
       "\n",
       "                                     address_builder  \\\n",
       "0  address Cascade Village Mall Across From Targe...   \n",
       "1  address Cascade Village Mall Across From Targe...   \n",
       "2           address 148 S Barrington Ave Los Angeles   \n",
       "3           address 148 S Barrington Ave Los Angeles   \n",
       "4           address 148 S Barrington Ave Los Angeles   \n",
       "\n",
       "                                         menu_detail item_value2  \n",
       "0                                   Bianca Pizza nan    22.50USD  \n",
       "1                                   Cheese Pizza nan    18.95USD  \n",
       "2                              Pizza, Margherita nan    12.00USD  \n",
       "3                                Pizza, Mushroom nan    13.00USD  \n",
       "4  Pizza, Puttenesca Olives, onions, capers, toma...    13.00USD  "
      ]
     },
     "execution_count": 43,
     "metadata": {},
     "output_type": "execute_result"
    }
   ],
   "source": [
    "# uniqueness\n",
    "df[\"name_unique\"] = df[\"name\"] + \" in \" + df[\"city\"]\n",
    "df[\"menu_item_linked\"] = df[\"menu item\"] + \" at \" + df[\"name_unique\"]\n",
    "\n",
    "# fix state to only two letters or blank\n",
    "df[\"state_fixed\"] = df[\"state\"].apply(lambda x: x if len(x) == 2 else \"\")\n",
    "\n",
    "# address builder\n",
    "df[\"address_builder\"] = \"address \" + df[\"address\"]+ \" \" + df[\"city\"]\n",
    "\n",
    "# merge menu item and item description - will be useful for checking ingredients/types\n",
    "df[\"menu_detail\"] = df[\"menu item\"] + \" \" + df[\"item description\"].apply(lambda x:str(x))\n",
    "\n",
    "# merge item value and currency\n",
    "df[\"item_value2\"] = df[\"item value\"].apply(lambda x:str(\"{:.2f}\".format(x))) + df[\"currency\"]\n",
    "\n",
    "df.head()"
   ]
  },
  {
   "cell_type": "code",
   "execution_count": null,
   "id": "afc7679d",
   "metadata": {},
   "outputs": [
    {
     "data": {
      "text/plain": [
       "name                  0\n",
       "address               0\n",
       "city                  0\n",
       "country               0\n",
       "postcode             10\n",
       "state                 0\n",
       "categories            0\n",
       "menu item             0\n",
       "item value           78\n",
       "currency             75\n",
       "item description    325\n",
       "name_unique           0\n",
       "menu_item_linked      0\n",
       "state_fixed           0\n",
       "address_builder       0\n",
       "menu_detail           0\n",
       "item_value2          75\n",
       "dtype: int64"
      ]
     },
     "execution_count": 44,
     "metadata": {},
     "output_type": "execute_result"
    }
   ],
   "source": [
    "# update stored column names\n",
    "cols = list(df.columns)\n",
    "\n",
    "# and look at nan in new cols\n",
    "df.isna().sum()"
   ]
  },
  {
   "cell_type": "markdown",
   "id": "94619fe2",
   "metadata": {},
   "source": [
    "#### Cautionary notes\n",
    "* Data snapshot shows state column can be incorrect \n",
    "* Missing values in postcode, item value, currency, item description. Safe to assume all currencies are \"USD\" as country column has value \"US\" only with no missing values\n",
    "* Some potentially erroneous postcodes and item values, but these will be treated as correct\n",
    "* Restaurant names are not unique so cannot be used as a URI. We can merge with location info. Menu items will also be nonunique"
   ]
  },
  {
   "cell_type": "markdown",
   "id": "469def81",
   "metadata": {},
   "source": [
    "### Creating the knowldge graph"
   ]
  },
  {
   "cell_type": "markdown",
   "id": "d90f5c29",
   "metadata": {},
   "source": [
    "#### Building the graph"
   ]
  },
  {
   "cell_type": "code",
   "execution_count": null,
   "id": "5c90c2ed",
   "metadata": {},
   "outputs": [
    {
     "name": "stdout",
     "output_type": "stream",
     "text": [
      "Loaded 963 triples.\n"
     ]
    }
   ],
   "source": [
    "#load graph from the model ontology\n",
    "g = Graph()\n",
    "g.parse(\"data/pizza-restaurants-ontology.ttl\", format = \"ttl\")\n",
    "\n",
    "# check how many triples \n",
    "print(\"Loaded \" + str(len(g)) + \" triples.\")\n",
    "\n",
    "# use cw (coursework) namespace for our URIs\n",
    "cw_ns_str = \"http://www.semanticweb.org/city/in3067-inm713/2024/restaurants#\"\n",
    "cw = Namespace(cw_ns_str)\n",
    "g.bind(\"cw\", cw)\n"
   ]
  },
  {
   "cell_type": "markdown",
   "id": "ece965c3",
   "metadata": {},
   "source": [
    "#### Functions"
   ]
  },
  {
   "cell_type": "markdown",
   "id": "71757099",
   "metadata": {},
   "source": [
    "Fuctions for processing"
   ]
  },
  {
   "cell_type": "code",
   "execution_count": null,
   "id": "042ab2f6",
   "metadata": {},
   "outputs": [],
   "source": [
    "# we extend the code provided by Ernesto Jiménez-Ruiz from labs\n",
    "# https://github.com/city-knowledge-graphs/python-2024\n",
    "\n",
    "# dictionary to store future URIs\n",
    "stringToURI = dict()\n",
    "\n",
    "# function for fixing strings for URIs\n",
    "def processLexicalName(name):\n",
    "    # _ for spaces and ., \"and\" for &\n",
    "    # removes ,()@\n",
    "    return \"_\".join(name.split()).replace(\"'\",\"\").replace(\"&\", \"and\").\\\n",
    "    replace(\"(\", \"\").replace(\")\", \"\").replace(\",\", \"\").replace(\".\", \"_\").\\\n",
    "        replace(\"@\", \"\")\n",
    "     \n",
    "# add fixed strings to URI dictionary\n",
    "def createURIForEntity(name):\n",
    "    stringToURI[name] = cw_ns_str + processLexicalName(name)\n",
    "    return stringToURI[name]\n",
    "\n",
    "# check for nan values\n",
    "def is_nan(x):\n",
    "    return (x != x)\n",
    "\n",
    "# add spaces to strings (eg VeganCheese->Vegan Cheese) for better searching\n",
    "def add_spaces(my_string):\n",
    "    # return list of caps\n",
    "    caps=re.findall('([A-Z])', my_string)\n",
    "    # we only see the pattern of one or two caps in this ontology\n",
    "    if len(caps)==2:\n",
    "        # at the second cap, add a space before, using regular expressions\n",
    "        my_string=re.sub(r\"(\\w)([A-Z])\", r\"\\1 \\2\", my_string)\n",
    "    return my_string  "
   ]
  },
  {
   "cell_type": "markdown",
   "id": "8e31d524",
   "metadata": {},
   "source": [
    "Functions for adding to graph.\n",
    "\n",
    "Here we have some brute force methods which could be improved on."
   ]
  },
  {
   "cell_type": "code",
   "execution_count": null,
   "id": "8dd67c80",
   "metadata": {},
   "outputs": [],
   "source": [
    "# we extend the code provided by Ernesto Jiménez-Ruiz from labs\n",
    "# https://github.com/city-knowledge-graphs/python-2024\n",
    "\n",
    "# add type triples to graph\n",
    "def mappingToCreateTypeTriple(subject_column, class_type):\n",
    "    for subject in df[subject_column]:\n",
    "        \n",
    "        # skip blanks\n",
    "        if is_nan(subject) or subject == None or subject == \"\" or subject == \"nan\":\n",
    "            pass\n",
    "        \n",
    "        else:\n",
    "            # check if URI already exists         \n",
    "            if subject.lower() in stringToURI:\n",
    "                entity_uri = stringToURI[subject.lower()]\n",
    "            else:\n",
    "            # if not, add it\n",
    "                entity_uri = createURIForEntity(subject.lower())\n",
    "            # add the triple to the graph\n",
    "            g.add((URIRef(entity_uri), RDF.type, class_type))\n",
    "\n",
    "# add type triples to graph - cw:pizza\n",
    "# seperate because we need a simple search in the string\n",
    "def mappingToCreateTypeTriple_pizza():\n",
    "    for item, item_linked in zip(df[\"menu item\"], df[\"menu_item_linked\"]):\n",
    "        \n",
    "        # skip blanks\n",
    "        if is_nan(item_linked) or item_linked == None or item_linked == \"\" or item_linked == \"nan\":\n",
    "            pass  \n",
    "        else:      \n",
    "            # see if \"pizza\" is in the menu item string\n",
    "            if \"pizza\" in item.lower():\n",
    "                # switch to menu_item_linked for the URI\n",
    "                # check if URI already exists \n",
    "                if item_linked.lower() in stringToURI:\n",
    "                    entity_uri = stringToURI[item_linked.lower()]\n",
    "                # if not, add it\n",
    "                else:\n",
    "                    entity_uri = createURIForEntity(item_linked.lower())\n",
    "                # add the triple to the graph\n",
    "                g.add((URIRef(entity_uri), RDF.type, cw.Pizza))\n",
    "\n",
    "# add businesses            \n",
    "# first time around, this is a brute force method for adding business types\n",
    "# by lookingh through the ontology\n",
    "def mappingToCreateTypeTriple_business():\n",
    "    for subject, object in zip(df['name_unique'], df['categories']):\n",
    "        \n",
    "        # skip blanks\n",
    "        if is_nan(subject) or subject == None or subject == \"\" or subject == \"nan\":\n",
    "            pass\n",
    "        \n",
    "        else:\n",
    "            # empty list of categories for business\n",
    "            business_categories = []          \n",
    "            # fix strings and add to URI dict if necessary \n",
    "            if subject.lower() in stringToURI:\n",
    "                subject_uri=stringToURI[subject.lower()]\n",
    "            else:\n",
    "                subject_uri=createURIForEntity(subject.lower())\n",
    "            # work through business categories\n",
    "            if \"asian\" in object.lower():\n",
    "                business_categories.append(cw.AsianRestaurant)\n",
    "            if \"chinese\" in object.lower():\n",
    "                business_categories.append(cw.ChineseRestaurant)\n",
    "            if \"japanese\" in object.lower():\n",
    "                business_categories.append(cw.JapaneseRestaurant)\n",
    "            if \"indian\" in object.lower():\n",
    "                business_categories.append(cw.IndianRestaurant)\n",
    "            if \"american\" in object.lower():\n",
    "                business_categories.append(cw.AmericanRestaurant)\n",
    "            if \"mexican\" in object.lower():\n",
    "                business_categories.append(cw.MexicanRestaurant)\n",
    "            if \"bakery\" in object.lower():\n",
    "                business_categories.append(cw.Bakery)\n",
    "            if \"burger\" in object.lower():\n",
    "                business_categories.append(cw.BurgerPlace)\n",
    "            if \"coffee\" in object.lower():\n",
    "                business_categories.append(cw.CoffeeShop)\n",
    "            if \"gourmet\" in object.lower():\n",
    "                business_categories.append(cw.GourmetRestaurant)\n",
    "            if \"mediterranean\" in object.lower():\n",
    "                business_categories.append(cw.MediterraneanRestaurant)\n",
    "            if \"italian\" in object.lower():\n",
    "                business_categories.append(cw.ItalianRestaurant)\n",
    "            if \"french\" in object.lower():\n",
    "                business_categories.append(cw.FrenchRestaurant)\n",
    "            if \"pizza\" in object.lower() or \"pizzeria\" in object.lower():\n",
    "                business_categories.append(cw.PizzaPlace)\n",
    "                business_categories.append(cw.Pizzeria)\n",
    "            if \"seafood\" in object.lower():\n",
    "                business_categories.append(cw.SeafoodRestaurant)\n",
    "            if \"cocktail\" in object.lower():\n",
    "                business_categories.append(cw.CocktailBars)\n",
    "            if \"karaoke\" in object.lower():\n",
    "                business_categories.append(cw.KaraokeBar)\n",
    "            if \"sportsbar\" in object.lower() or \"sports bar\" in object.lower():\n",
    "                business_categories.append(cw.SportsBar)\n",
    "            if \"bar and grill\" in object.lower() or \"bar & grill\" in object.lower():\n",
    "                business_categories.append(cw.BarAndGrill)\n",
    "            if \"bar\" in object.lower():\n",
    "                business_categories.append(cw.Bar)\n",
    "            if \"beer\" in object.lower():\n",
    "                business_categories.append(cw.BeerPlace)\n",
    "            if \"pub\" in object.lower():\n",
    "                business_categories.append(cw.Pub)\n",
    "            if \"club\" in object.lower():\n",
    "                business_categories.append(cw.Club)\n",
    "            if \"vegetarian\" in object.lower():\n",
    "                business_categories.append(cw.VegetarianRestaurant)\n",
    "            if \"vegan\" in object.lower():\n",
    "                business_categories.append(cw.VeganRestaurant)\n",
    "            if \"gluten-free\" in object.lower():\n",
    "                business_categories.append(cw.GlutenFreeRestaurant)\n",
    "                \n",
    "            for category in business_categories:\n",
    "                # add triples to graph\n",
    "                g.add((URIRef(subject_uri), RDF.type, category))\n",
    "        \n",
    "# add literal triples to graph\n",
    "def mappingToCreateLiteralTriple(subject_column, object_column, predicate, datatype):\n",
    "\n",
    "    for subject, lit_value in zip(df[subject_column], df[object_column]):\n",
    "        if is_nan(lit_value) or lit_value == None or lit_value == \"\" or lit_value == \"nan\"\\\n",
    "            or is_nan(subject) or subject == None or subject == \"\" or subject==\"nan\":\n",
    "            pass\n",
    "        else:\n",
    "            # the URI has already been created\n",
    "            entity_uri = stringToURI[subject.lower()]   \n",
    "            # get the datatype correct for Literal\n",
    "            lit = Literal(lit_value, datatype=datatype)\n",
    "            # add triple to graph\n",
    "            g.add((URIRef(entity_uri), predicate, lit))\n",
    "\n",
    "    \n",
    "# add object properties to graph\n",
    "def mappingToCreateObjectTriple(subject_column, object_column, predicate):\n",
    "    for subject, object in zip(df[subject_column], df[object_column]): \n",
    "        if is_nan(subject) or subject == None or subject == \"\" or subject == \"nan\"\\\n",
    "            or is_nan(object) or object == None or object == \"\" or object == \"nan\":\n",
    "            pass\n",
    "        else:\n",
    "            # the URI has already been created \n",
    "            subject_uri = stringToURI[subject.lower()]   \n",
    "            object_uri = stringToURI[object.lower()]\n",
    "            # add triple to graph\n",
    "            g.add((URIRef(subject_uri), predicate, URIRef(object_uri)))\n",
    "\n",
    "# add pizza types (NamedPizza) to graph\n",
    "def mappingToCreateTypeTriple_namedPizza():        \n",
    "    # query to return pizza types\n",
    "    qres = g.query(\n",
    "    \"\"\"SELECT ?name where {\n",
    "    ?name rdfs:subClassOf cw:NamedPizza . \n",
    "    }\"\"\")\n",
    "    # these will be the types returned by the query\n",
    "    categories_cw = []\n",
    "    # these will be the types but changed for better string searches\n",
    "    categories = []\n",
    "    for row in qres:\n",
    "        # Row is a list of matched RDF terms: URIs, literals or blank nodes\n",
    "        # process the returned row for URI creation with prefix \"cw.\"\n",
    "        categories_cw.append(\"cw.\" + row.name.split(\"#\")[-1])\n",
    "        categories.append(row.name.split(\"#\")[-1])\n",
    "        # remove the word \"pizza\"\n",
    "        # this is because Margherita Pizza and Pizza Margherita \n",
    "        # are both a Margherita Pizza!\n",
    "        categories=[_.replace('Pizza', \"\") for _ in categories]\n",
    "    # for each menu item\n",
    "    for item, item_linked in zip(df['menu item'], df[\"menu_item_linked\"]):\n",
    "        # for each pizza category\n",
    "        for category in categories:\n",
    "            # if the pizza category text is in the menu item\n",
    "            if category.lower() in item.lower():\n",
    "                # find the URI - it should already have been created\n",
    "                item_linked_URI = stringToURI[item_linked.lower()]\n",
    "                # add to graph\n",
    "                g.add((URIRef(item_linked_URI), RDF.type, eval(categories_cw[categories.index(category)])))                   \n",
    "\n",
    "# this is a big function because if you are getting all the information\n",
    "# you might as well use it!\n",
    "# it adds...\n",
    "# the ingredient as an entitity of the ontology's ingredients\n",
    "# adds the ingredient to the pizza\n",
    "# decides if the pizza is vegetarian/vegan\n",
    "def mappingForIngredients():\n",
    "    # query to return ingredient classes in ontology\n",
    "    # there are many sub-sub-...-categories\n",
    "    qres_ing = g.query(\n",
    "    \"\"\"SELECT ?ingredient where {{\n",
    "    ?big_ingredient rdfs:subClassOf cw:Ingredient .\n",
    "    ?ingredient rdfs:subClassOf ?big_ingredient .}\n",
    "    UNION\n",
    "    {\n",
    "    ?big_ingredient rdfs:subClassOf cw:Ingredient .\n",
    "    ?big_ingredient2 rdfs:subClassOf ?big_ingredient .\n",
    "    ?ingredient rdfs:subClassOf ?big_ingredient2 .}\n",
    "    UNION\n",
    "    {\n",
    "    ?big_ingredient rdfs:subClassOf cw:Ingredient .\n",
    "    ?big_ingredient2 rdfs:subClassOf ?big_ingredient .\n",
    "    ?big_ingredient3 rdfs:subClassOf ?big_ingredient2 .\n",
    "    ?ingredient rdfs:subClassOf ?big_ingredient3 .}\n",
    "    UNION\n",
    "    {\n",
    "    ?big_ingredient rdfs:subClassOf cw:Ingredient .\n",
    "    ?big_ingredient2 rdfs:subClassOf ?big_ingredient .\n",
    "    ?big_ingredient3 rdfs:subClassOf ?big_ingredient2 .\n",
    "    ?big_ingredient4 rdfs:subClassOf ?big_ingredient3 .\n",
    "    ?ingredient rdfs:subClassOf ?big_ingredient4 .}}\n",
    "    \"\"\")\n",
    "    # this will be populated with ingredients returned by the query\n",
    "    ingredients_cw = []\n",
    "    # as above, but with some processing for string searches\n",
    "    ingredients = []\n",
    "    for row in qres_ing:\n",
    "        # Row is a list of matched RDF terms: URIs, literals or blank nodes\n",
    "        # add new ingredient to list, with prefix \"cw.\"\n",
    "        ingredients_cw.append(\"cw.\" + row.ingredient.split(\"#\")[-1])\n",
    "        # add string part to other list\n",
    "        ingredients.append(row.ingredient.split(\"#\")[-1])\n",
    "        # improve the string for better matching - by adding spaces\n",
    "        ingredients = [add_spaces(_) for _ in ingredients]\n",
    "    \n",
    "    # get vegetarian ingredients\n",
    "    qres_vegetarian = g.query(\"\"\"SELECT ?ingredient where {{\n",
    "    ?ingredient rdfs:subClassOf cw:VegetarianIngredient .}\n",
    "    UNION\n",
    "    {?ingredient rdfs:subClassOf cw:VeganIngredient .}\n",
    "    UNION\n",
    "    {?ingredient rdfs:subClassOf cw:Vegetable .}\n",
    "    UNION\n",
    "    {?ingredient rdfs:subClassOf cw:Fruit .}}\n",
    "    \"\"\")\n",
    "    # we turn the query into a list as above\n",
    "    vegetarian_list = []\n",
    "    for row in qres_vegetarian:\n",
    "        # process the string\n",
    "        vegetarian_list.append(row.ingredient.split(\"#\")[-1])\n",
    "        # improve the string for better matching - by adding spaces\n",
    "        vegetarian_list = [add_spaces(_) for _ in vegetarian_list]\n",
    "        vegetarian_list = [_.lower() for _ in vegetarian_list]\n",
    "     \n",
    "    # get vegan ingredients   \n",
    "    qres_vegan = g.query(\"\"\"SELECT ?ingredient where {\n",
    "    {?ingredient rdfs:subClassOf cw:VeganIngredient .}\n",
    "    UNION\n",
    "    {?ingredient rdfs:subClassOf cw:Vegetable .}\n",
    "    UNION\n",
    "    {?ingredient rdfs:subClassOf cw:Fruit .}}\n",
    "    \"\"\")\n",
    "    # we turn the query into a list as above\n",
    "    vegan_list = []\n",
    "    for row in qres_vegan:\n",
    "        # process the string\n",
    "        vegan_list.append(row.ingredient.split(\"#\")[-1])\n",
    "        # improve the string for better matching - by adding spaces\n",
    "        vegan_list = [add_spaces(_) for _ in vegan_list]\n",
    "        vegan_list = [_.lower() for _ in vegan_list]\n",
    "    \n",
    "    \n",
    "    # for each menu item\n",
    "    # we use \"menu_detail\" which merges the item name and description\n",
    "    # for better searching\n",
    "    for description,item_linked in zip(df['menu_detail'], df[\"menu_item_linked\"]):\n",
    "        # skip blanks\n",
    "        if is_nan(description) or description== None or description == \"\" or description == \"nan\"\\\n",
    "            or is_nan(item_linked) or item_linked == None or item_linked == \"\" or item_linked == \"nan\":\n",
    "            pass\n",
    "        else:\n",
    "            # start an ingredient list for each menu item\n",
    "            ingredient_list = []\n",
    "            # for each ingredient category\n",
    "            for ingredient in ingredients:\n",
    "                # if the ingredient is in the menu item's description\n",
    "                if ingredient.lower() in description.lower():\n",
    "                    # add ingredient to ingredient list for this menu item\n",
    "                    ingredient_list.append(ingredient.lower())\n",
    "                    # get URIs for the menu item\n",
    "                    item_linked_URI = stringToURI[item_linked.lower()]\n",
    "                    # we want to use .lower() here to differentiate and \n",
    "                    # enable cw:pepper rdfs:subClassOf cw:Pepper\n",
    "                    add_ingredient_uri = createURIForEntity(ingredient.lower())\n",
    "                    ingredient_URI = stringToURI[ingredient.lower()]\n",
    "                    # add to graph\n",
    "                    # add the object property\n",
    "                    g.add((URIRef(item_linked_URI), cw.hasIngredient, URIRef(ingredient_URI)))\n",
    "                    # add the type property\n",
    "                    g.add((URIRef(ingredient_URI), RDF.type, eval(ingredients_cw[ingredients.index(ingredient)])))\n",
    "                    \n",
    "                    # vegetarian/vegan check\n",
    "                    # check if all ingredients are in the vegetarian list and the word \"pizza\"\n",
    "                    if all([x in vegetarian_list for x in ingredient_list]) and (\"pizza\" in description.lower()):\n",
    "                        # if so, it's a vegtarian pizza! add triple to graph\n",
    "                        g.add((URIRef(item_linked_URI), RDF.type, cw.VegetarianPizza)) \n",
    "                    # similarly for vegan...\n",
    "                    if all([x in vegan_list for x in ingredient_list]) and (\"pizza\" in description.lower()):\n",
    "                        # add triple to graph\n",
    "                        g.add((URIRef(item_linked_URI), RDF.type, cw.VeganPizza))     "
   ]
  },
  {
   "cell_type": "markdown",
   "id": "ab667a01",
   "metadata": {},
   "source": [
    "#### Start adding to graph"
   ]
  },
  {
   "cell_type": "markdown",
   "id": "771ad018",
   "metadata": {},
   "source": [
    "Types - we must assign types first to create URIs, otherwise we'll get key errors. Ingredients are a special case and come later"
   ]
  },
  {
   "cell_type": "code",
   "execution_count": null,
   "id": "50ecf2d0",
   "metadata": {},
   "outputs": [],
   "source": [
    "# address/location\n",
    "mappingToCreateTypeTriple(\"address_builder\", cw.Address)\n",
    "mappingToCreateTypeTriple(\"city\", cw.City)\n",
    "mappingToCreateTypeTriple(\"state_fixed\", cw.State)\n",
    "mappingToCreateTypeTriple(\"country\", cw.Country)\n",
    "\n",
    "# menu items - further work below\n",
    "mappingToCreateTypeTriple(\"menu_item_linked\", cw.MenuItem)\n",
    "\n",
    "# currency\n",
    "mappingToCreateTypeTriple('currency', cw.Currency)\n",
    "\n",
    "# item value\n",
    "mappingToCreateTypeTriple('item_value2', cw.ItemValue)\n"
   ]
  },
  {
   "cell_type": "markdown",
   "id": "732df29d",
   "metadata": {},
   "source": [
    "More complicated types"
   ]
  },
  {
   "cell_type": "code",
   "execution_count": 51,
   "id": "113a4386",
   "metadata": {},
   "outputs": [],
   "source": [
    "# businesses\n",
    "mappingToCreateTypeTriple_business()\n",
    "# named pizza type\n",
    "mappingToCreateTypeTriple_namedPizza()"
   ]
  },
  {
   "cell_type": "markdown",
   "id": "b77bc435",
   "metadata": {},
   "source": [
    "Literals"
   ]
  },
  {
   "cell_type": "code",
   "execution_count": 52,
   "id": "9ea9b68f",
   "metadata": {},
   "outputs": [],
   "source": [
    "# literals\n",
    "mappingToCreateLiteralTriple(\"address_builder\", \"address\", cw.firstLineAddress, XSD.string)\n",
    "mappingToCreateLiteralTriple(\"address_builder\", \"postcode\", cw.postCode, XSD.string)\n",
    "mappingToCreateLiteralTriple(\"menu_item_linked\", \"menu item\", cw.itemName, XSD.string)\n",
    "mappingToCreateLiteralTriple(\"item_value2\", \"currency\", cw.amountCurrency, XSD.string)\n",
    "mappingToCreateLiteralTriple(\"item_value2\", \"item value\", cw.amount, XSD.double)\n",
    "mappingToCreateLiteralTriple(\"name_unique\", \"name\", cw.restaurantName, XSD.string)"
   ]
  },
  {
   "cell_type": "markdown",
   "id": "e7d8daf2",
   "metadata": {},
   "source": [
    "Object properties"
   ]
  },
  {
   "cell_type": "code",
   "execution_count": 53,
   "id": "02fda605",
   "metadata": {},
   "outputs": [],
   "source": [
    "# Create object property triples - all URIs should already have been created\n",
    "mappingToCreateObjectTriple('name_unique', 'city', cw.locatedInCity)\n",
    "mappingToCreateObjectTriple('name_unique', 'country', cw.locatedInCountry)\n",
    "mappingToCreateObjectTriple('state_fixed', 'country', cw.locatedInCountry)\n",
    "mappingToCreateObjectTriple('name_unique', 'state_fixed', cw.locatedInState)\n",
    "mappingToCreateObjectTriple('city', 'state_fixed', cw.locatedInState)\n",
    "mappingToCreateObjectTriple('name_unique', 'address_builder', cw.locatedInAddress)\n",
    "mappingToCreateObjectTriple('address_builder', 'city', cw.locatedInCity)\n",
    "mappingToCreateObjectTriple('name_unique', 'menu_item_linked', cw.servesMenuItem)\n",
    "mappingToCreateObjectTriple('menu_item_linked', 'item_value2', cw.hasValue)"
   ]
  },
  {
   "cell_type": "markdown",
   "id": "c9139ff3",
   "metadata": {},
   "source": [
    "Pizza as a type"
   ]
  },
  {
   "cell_type": "code",
   "execution_count": 54,
   "id": "e196a362",
   "metadata": {},
   "outputs": [],
   "source": [
    "# pizza type\n",
    "mappingToCreateTypeTriple_pizza()"
   ]
  },
  {
   "cell_type": "markdown",
   "id": "28bea149",
   "metadata": {},
   "source": [
    "Ingredients - these are more complicated and the function adds both type and object property"
   ]
  },
  {
   "cell_type": "code",
   "execution_count": 55,
   "id": "aa3e293b",
   "metadata": {},
   "outputs": [],
   "source": [
    "# process ingredients\n",
    "# adds both eg cw:pepper a cw:Pepper\n",
    "# and          cw:some_specific_pizza cw:hasIngredient cw:pepper\n",
    "# and classifies vegan/vegetarian pizzas\n",
    "mappingForIngredients()"
   ]
  },
  {
   "cell_type": "markdown",
   "id": "39669225",
   "metadata": {},
   "source": [
    "Save first graph"
   ]
  },
  {
   "cell_type": "code",
   "execution_count": null,
   "id": "afdc6b02",
   "metadata": {},
   "outputs": [
    {
     "data": {
      "text/plain": [
       "<Graph identifier=N4dbe0e99829844308f890f5ce7e98be7 (<class 'rdflib.graph.Graph'>)>"
      ]
     },
     "execution_count": 56,
     "metadata": {},
     "output_type": "execute_result"
    }
   ],
   "source": [
    "# in ttl format\n",
    "g.serialize(destination = 'data/output_graphs/g_og.ttl', format = 'ttl')"
   ]
  },
  {
   "cell_type": "markdown",
   "id": "61d1c0ae",
   "metadata": {},
   "source": [
    "### Link to external kgs\n",
    "We link to the google kg. Only implement for city, country and state"
   ]
  },
  {
   "cell_type": "code",
   "execution_count": null,
   "id": "f7e4a48b",
   "metadata": {},
   "outputs": [],
   "source": [
    "# link to lookup script\n",
    "ggl = GoogleKGLookup()\n",
    "\n",
    "# new empty dictionary\n",
    "stringToURI = dict()"
   ]
  },
  {
   "cell_type": "markdown",
   "id": "bcafb92c",
   "metadata": {},
   "source": [
    "Tweak the dictionary and add type functions"
   ]
  },
  {
   "cell_type": "code",
   "execution_count": null,
   "id": "c4a73df9",
   "metadata": {},
   "outputs": [],
   "source": [
    "# we extend the code provided by Ernesto Jiménez-Ruiz from labs\n",
    "# https://github.com/city-knowledge-graphs/python-2024\n",
    "\n",
    "def createURIForEntity_external(name):\n",
    "        \n",
    "        #We create fresh URI (default option)\n",
    "        stringToURI[name] = cw_ns_str + processLexicalName(name)       \n",
    "       \n",
    "        uri = getExternalKGURI(name)\n",
    "        if uri != \"\":\n",
    "            stringToURI[name.lower()] = uri\n",
    "        \n",
    "        return stringToURI[name.lower()]\n",
    "\n",
    "# change to ggl kg\n",
    "def getExternalKGURI(name):\n",
    "        entities = ggl.getKGEntities(name, 5)\n",
    "        current_sim = -1\n",
    "        current_uri = ''\n",
    "        \n",
    "        for ent in entities:           \n",
    "            isub_score = isub(name, ent.label) \n",
    "            if current_sim < isub_score:\n",
    "                # for some reason, we're unable to bind prefixes \n",
    "                # later so replace with full URI\n",
    "                current_uri = ent.ident.replace(\"kg:\", \"http://g.co/kg\")\n",
    "                current_sim = isub_score\n",
    "\n",
    "        return current_uri\n",
    "            \n",
    "def mappingToCreateTypeTriple_external(subject_column, class_type):\n",
    "    for subject in df[subject_column]:    \n",
    "        # skip blanks\n",
    "        if is_nan(subject) or subject == None or subject == \"\":\n",
    "            pass\n",
    "        else:\n",
    "            if subject.lower() in stringToURI:\n",
    "                entity_uri=stringToURI[subject.lower()]\n",
    "            else:\n",
    "                # already returns .lower() - not having it here might improve search?\n",
    "                entity_uri = createURIForEntity_external(subject)\n",
    "            g.add((URIRef(entity_uri), RDF.type, class_type))"
   ]
  },
  {
   "cell_type": "markdown",
   "id": "9792fb6e",
   "metadata": {},
   "source": [
    "Start a new graph for Google"
   ]
  },
  {
   "cell_type": "code",
   "execution_count": null,
   "id": "783132d2",
   "metadata": {},
   "outputs": [
    {
     "name": "stdout",
     "output_type": "stream",
     "text": [
      "Loaded 963 triples.\n"
     ]
    }
   ],
   "source": [
    "#Load graph from the model ontology\n",
    "g = Graph()\n",
    "g.parse(\"data/pizza-restaurants-ontology.ttl\", format = \"ttl\")\n",
    "\n",
    "# check contents \n",
    "print(\"Loaded \" + str(len(g)) + \" triples.\")\n",
    "\n",
    "# use cw namespace\n",
    "cw_ns_str = \"http://www.semanticweb.org/city/in3067-inm713/2024/restaurants#\"\n",
    "cw = Namespace(cw_ns_str)\n",
    "g.bind(\"cw\", cw)\n",
    "# unable to bind ggl kg with a prefix so the whole URI is used\n",
    "# as per the replace() call in getExternalKGURI() above\n",
    "# note sure why this happens!"
   ]
  },
  {
   "cell_type": "markdown",
   "id": "b8dd8b19",
   "metadata": {},
   "source": [
    "Add the three types from the external KG"
   ]
  },
  {
   "cell_type": "code",
   "execution_count": null,
   "id": "154c1f96",
   "metadata": {},
   "outputs": [
    {
     "name": "stdout",
     "output_type": "stream",
     "text": [
      "Connecting to kg for these three types took 142.1180272102356 seconds\n"
     ]
    }
   ],
   "source": [
    "# connecting to external kg and time it\n",
    "t0 = time()\n",
    "mappingToCreateTypeTriple_external(\"city\", cw.City)\n",
    "mappingToCreateTypeTriple_external(\"state_fixed\", cw.State)\n",
    "mappingToCreateTypeTriple_external(\"country\", cw.Country)\n",
    "print(f\"Connecting to kg for these three types took {time() - t0} seconds\")"
   ]
  },
  {
   "cell_type": "markdown",
   "id": "753d02c1",
   "metadata": {},
   "source": [
    "Add the rest"
   ]
  },
  {
   "cell_type": "code",
   "execution_count": null,
   "id": "97cf9e97",
   "metadata": {},
   "outputs": [],
   "source": [
    "# address/location\n",
    "mappingToCreateTypeTriple(\"address_builder\", cw.Address)\n",
    "\n",
    "# menu items - further work below\n",
    "mappingToCreateTypeTriple(\"menu_item_linked\", cw.MenuItem)\n",
    "\n",
    "# currency\n",
    "mappingToCreateTypeTriple('currency', cw.Currency)\n",
    "\n",
    "# item value\n",
    "mappingToCreateTypeTriple('item_value2', cw.ItemValue)\n",
    "\n",
    "# businesses\n",
    "mappingToCreateTypeTriple_business()\n",
    "\n",
    "# pizza type\n",
    "mappingToCreateTypeTriple_pizza()\n",
    "\n",
    "# named pizza type\n",
    "mappingToCreateTypeTriple_namedPizza()\n",
    "\n",
    "# literals\n",
    "mappingToCreateLiteralTriple(\"address_builder\", \"address\", cw.firstLineAddress, XSD.string)\n",
    "mappingToCreateLiteralTriple(\"address_builder\", \"postcode\", cw.postCode, XSD.string)\n",
    "mappingToCreateLiteralTriple(\"menu_item_linked\", \"menu item\", cw.itemName, XSD.string)\n",
    "mappingToCreateLiteralTriple(\"item_value2\", \"currency\", cw.amountCurrency, XSD.string)\n",
    "mappingToCreateLiteralTriple(\"item_value2\", \"item value\", cw.amount, XSD.double)\n",
    "mappingToCreateLiteralTriple(\"name_unique\", \"name\", cw.restaurantName, XSD.string)\n",
    "\n",
    "# Create object property triples - all URIs should already have been created\n",
    "mappingToCreateObjectTriple('name_unique', 'city', cw.locatedInCity)\n",
    "mappingToCreateObjectTriple('name_unique', 'country', cw.locatedInCountry)\n",
    "mappingToCreateObjectTriple('state_fixed', 'country', cw.locatedInCountry)\n",
    "mappingToCreateObjectTriple('name_unique', 'state_fixed', cw.locatedInState)\n",
    "mappingToCreateObjectTriple('city', 'state_fixed', cw.locatedInState)\n",
    "mappingToCreateObjectTriple('name_unique', 'address_builder', cw.locatedInAddress)\n",
    "mappingToCreateObjectTriple('address_builder', 'city', cw.locatedInCity)\n",
    "mappingToCreateObjectTriple('name_unique', 'menu_item_linked', cw.servesMenuItem)\n",
    "mappingToCreateObjectTriple('menu_item_linked', 'item_value2', cw.hasValue)\n",
    "\n",
    "# add ingredients\n",
    "mappingForIngredients()"
   ]
  },
  {
   "cell_type": "code",
   "execution_count": null,
   "id": "418984c9",
   "metadata": {},
   "outputs": [
    {
     "data": {
      "text/plain": [
       "<Graph identifier=N6968988039204c17891415a4cdf04e61 (<class 'rdflib.graph.Graph'>)>"
      ]
     },
     "execution_count": 63,
     "metadata": {},
     "output_type": "execute_result"
    }
   ],
   "source": [
    "# export\n",
    "g.serialize(destination = 'data/output_graphs/g_ggl.ttl', format = 'ttl')"
   ]
  },
  {
   "cell_type": "markdown",
   "id": "0b99a6b3",
   "metadata": {},
   "source": [
    "## Reasoning and SPARQL queries\n",
    "Note, here we are working with g_og with reasoning"
   ]
  },
  {
   "cell_type": "markdown",
   "id": "ef70d967",
   "metadata": {},
   "source": [
    "### Add reasoning"
   ]
  },
  {
   "cell_type": "code",
   "execution_count": null,
   "id": "94cf0d2e",
   "metadata": {},
   "outputs": [
    {
     "name": "stdout",
     "output_type": "stream",
     "text": [
      "Pre-reasoning 6631 triples.\n",
      "Reasoning took 26.5491681098938 seconds\n",
      "After-reasoning 35524 triples.\n"
     ]
    }
   ],
   "source": [
    "g = Graph()\n",
    "# load our pre-external KG graph\n",
    "g.parse(\"data/output_graphs/g_og.ttl\", format = \"ttl\")\n",
    "# triples before reasoning\n",
    "print(\"Pre-reasoning \" + str(len(g)) + \" triples.\")\n",
    "\n",
    "#Perform reasoning and time it\n",
    "t0=time()\n",
    "owlrl.DeductiveClosure(owlrl.OWLRL_Semantics, axiomatic_triples=True, datatype_axioms=False).expand(g)\n",
    "print(f\"Reasoning took {time()-t0} seconds\")\n",
    "print(\"After-reasoning \" + str(len(g)) + \" triples.\")\n"
   ]
  },
  {
   "cell_type": "code",
   "execution_count": null,
   "id": "c2fcf43e",
   "metadata": {},
   "outputs": [
    {
     "data": {
      "text/plain": [
       "<Graph identifier=Nfadacffaad8d40c5a3a9bab02bb7a8d2 (<class 'rdflib.graph.Graph'>)>"
      ]
     },
     "execution_count": 70,
     "metadata": {},
     "output_type": "execute_result"
    }
   ],
   "source": [
    "# save graph with reasoning\n",
    "g.serialize(destination = 'data/output_graphs/g_reasoning.ttl', format = 'ttl')"
   ]
  },
  {
   "cell_type": "code",
   "execution_count": null,
   "id": "c4017a15",
   "metadata": {},
   "outputs": [
    {
     "data": {
      "text/plain": [
       "<Graph identifier=N89ffaa0b7c844231bfe06c3629d11b74 (<class 'rdflib.graph.Graph'>)>"
      ]
     },
     "execution_count": 71,
     "metadata": {},
     "output_type": "execute_result"
    }
   ],
   "source": [
    "g = Graph()\n",
    "g.parse(\"data/output_graphs/g_reasoning.ttl\", format = \"ttl\")"
   ]
  },
  {
   "cell_type": "code",
   "execution_count": null,
   "id": "8086d1c8",
   "metadata": {},
   "outputs": [
    {
     "name": "stdout",
     "output_type": "stream",
     "text": [
      "(rdflib.term.URIRef('http://www.semanticweb.org/city/in3067-inm713/2024/restaurants#pizza_by_the_slice_at_antonios_pizza_in_chatham'), rdflib.term.Literal('1.79', datatype=rdflib.term.URIRef('http://www.w3.org/2001/XMLSchema#double')))\n",
      "(rdflib.term.URIRef('http://www.semanticweb.org/city/in3067-inm713/2024/restaurants#pizza_dipping_sauce_cup_at_hungry_howies_pizza_in_chandler'), rdflib.term.Literal('0.59', datatype=rdflib.term.URIRef('http://www.w3.org/2001/XMLSchema#double')))\n",
      "(rdflib.term.URIRef('http://www.semanticweb.org/city/in3067-inm713/2024/restaurants#pizza_pretzel_at_mi_pals_deli_in_philadelphia'), rdflib.term.Literal('1.25', datatype=rdflib.term.URIRef('http://www.w3.org/2001/XMLSchema#double')))\n",
      "(rdflib.term.URIRef('http://www.semanticweb.org/city/in3067-inm713/2024/restaurants#pizza_roll_at_china_moon_in_suffolk'), rdflib.term.Literal('1.25', datatype=rdflib.term.URIRef('http://www.w3.org/2001/XMLSchema#double')))\n",
      "(rdflib.term.URIRef('http://www.semanticweb.org/city/in3067-inm713/2024/restaurants#pizza_roll_at_china_kitchen_in_denver'), rdflib.term.Literal('1.2', datatype=rdflib.term.URIRef('http://www.w3.org/2001/XMLSchema#double')))\n",
      "(rdflib.term.URIRef('http://www.semanticweb.org/city/in3067-inm713/2024/restaurants#pizza_roll_at_mi_pals_deli_in_philadelphia'), rdflib.term.Literal('1.75', datatype=rdflib.term.URIRef('http://www.w3.org/2001/XMLSchema#double')))\n",
      "(rdflib.term.URIRef('http://www.semanticweb.org/city/in3067-inm713/2024/restaurants#round_pizza_by_the_slice_at_rosa_ii_pizzeria_and_restaurant_in_middle_village'), rdflib.term.Literal('1.75', datatype=rdflib.term.URIRef('http://www.w3.org/2001/XMLSchema#double')))\n",
      "(rdflib.term.URIRef('http://www.semanticweb.org/city/in3067-inm713/2024/restaurants#pizza_toppings_at_keyme_in_kent'), rdflib.term.Literal('1.75', datatype=rdflib.term.URIRef('http://www.w3.org/2001/XMLSchema#double')))\n",
      "(rdflib.term.URIRef('http://www.semanticweb.org/city/in3067-inm713/2024/restaurants#pizza_roll_at_supreme_roast_beef_and_sea_food_in_danvers'), rdflib.term.Literal('1.85', datatype=rdflib.term.URIRef('http://www.w3.org/2001/XMLSchema#double')))\n",
      "(rdflib.term.URIRef('http://www.semanticweb.org/city/in3067-inm713/2024/restaurants#cheese_pizza_at_greeks_pizzeria_in_indianapolis'), rdflib.term.Literal('1.42', datatype=rdflib.term.URIRef('http://www.w3.org/2001/XMLSchema#double')))\n",
      "(rdflib.term.URIRef('http://www.semanticweb.org/city/in3067-inm713/2024/restaurants#pepperoni_pizza_pretzel_at_mi_pals_deli_in_philadelphia'), rdflib.term.Literal('1.5', datatype=rdflib.term.URIRef('http://www.w3.org/2001/XMLSchema#double')))\n",
      "(rdflib.term.URIRef('http://www.semanticweb.org/city/in3067-inm713/2024/restaurants#taco_pizza_at_taco_pronto_in_wichita'), rdflib.term.Literal('1.99', datatype=rdflib.term.URIRef('http://www.w3.org/2001/XMLSchema#double')))\n"
     ]
    }
   ],
   "source": [
    "# query to return menu items that cost less than 2USD\n",
    "query1 = open(\"data/queries/query1.txt\", 'r').read()\n",
    "qres1 = g.query(query1)\n",
    "\n",
    "for row in qres1:\n",
    "    #Row is a list of matched RDF terms: URIs, literals or blank nodes\n",
    "    print(row)\n",
    "\n",
    "# save as csv\n",
    "qres1.serialize(destination = \"data/queries/result_sparql1.csv\", format = \"csv\")"
   ]
  },
  {
   "cell_type": "code",
   "execution_count": null,
   "id": "c17db61a",
   "metadata": {},
   "outputs": [
    {
     "name": "stdout",
     "output_type": "stream",
     "text": [
      "(rdflib.term.URIRef('http://www.semanticweb.org/city/in3067-inm713/2024/restaurants#order_3_large_pizzas_and_get_the_4th_pizza_free_at_riccardos_pizza_in_saddle_brook'), rdflib.term.Literal('38', datatype=rdflib.term.URIRef('http://www.w3.org/2001/XMLSchema#double')))\n",
      "(rdflib.term.URIRef('http://www.semanticweb.org/city/in3067-inm713/2024/restaurants#pizza_at_california_pizza_kitchen_in_austin'), rdflib.term.Literal('117', datatype=rdflib.term.URIRef('http://www.w3.org/2001/XMLSchema#double')))\n",
      "(rdflib.term.URIRef('http://www.semanticweb.org/city/in3067-inm713/2024/restaurants#pizza_at_california_pizza_kitchen_in_wellington'), rdflib.term.Literal('117', datatype=rdflib.term.URIRef('http://www.w3.org/2001/XMLSchema#double')))\n"
     ]
    }
   ],
   "source": [
    "# find expensive pizzas(>25USD), return the pizza and dollar amount        \n",
    "query2 = open(\"data/queries/query2.txt\", 'r').read() \n",
    "qres2 = g.query(query2)\n",
    "\n",
    "for row in qres2:\n",
    "    #Row is a list of matched RDF terms: URIs, literals or blank nodes\n",
    "    print(row)\n",
    "\n",
    "# save as csv\n",
    "qres2.serialize(destination = \"data/queries/result_sparql2.csv\", format = \"csv\")"
   ]
  },
  {
   "cell_type": "code",
   "execution_count": null,
   "id": "d52f1f3d",
   "metadata": {},
   "outputs": [
    {
     "name": "stdout",
     "output_type": "stream",
     "text": [
      "(rdflib.term.URIRef('http://www.semanticweb.org/city/in3067-inm713/2024/restaurants#Anchovies'),)\n",
      "(rdflib.term.URIRef('http://www.semanticweb.org/city/in3067-inm713/2024/restaurants#CrabMeat'),)\n",
      "(rdflib.term.URIRef('http://www.semanticweb.org/city/in3067-inm713/2024/restaurants#Salmon'),)\n",
      "(rdflib.term.URIRef('http://www.semanticweb.org/city/in3067-inm713/2024/restaurants#Scallops'),)\n",
      "(rdflib.term.URIRef('http://www.semanticweb.org/city/in3067-inm713/2024/restaurants#SeaFood'),)\n",
      "(rdflib.term.URIRef('http://www.semanticweb.org/city/in3067-inm713/2024/restaurants#Shrimp'),)\n",
      "(rdflib.term.URIRef('http://www.semanticweb.org/city/in3067-inm713/2024/restaurants#Tuna'),)\n",
      "(rdflib.term.URIRef('http://www.semanticweb.org/city/in3067-inm713/2024/restaurants#BlueCheese'),)\n",
      "(rdflib.term.URIRef('http://www.semanticweb.org/city/in3067-inm713/2024/restaurants#Cheddar'),)\n",
      "(rdflib.term.URIRef('http://www.semanticweb.org/city/in3067-inm713/2024/restaurants#Cheese'),)\n",
      "(rdflib.term.URIRef('http://www.semanticweb.org/city/in3067-inm713/2024/restaurants#Feta'),)\n",
      "(rdflib.term.URIRef('http://www.semanticweb.org/city/in3067-inm713/2024/restaurants#GoatCheese'),)\n",
      "(rdflib.term.URIRef('http://www.semanticweb.org/city/in3067-inm713/2024/restaurants#Gorgonzola'),)\n",
      "(rdflib.term.URIRef('http://www.semanticweb.org/city/in3067-inm713/2024/restaurants#Mozzarella'),)\n",
      "(rdflib.term.URIRef('http://www.semanticweb.org/city/in3067-inm713/2024/restaurants#Parmesan'),)\n",
      "(rdflib.term.URIRef('http://www.semanticweb.org/city/in3067-inm713/2024/restaurants#Provolone'),)\n",
      "(rdflib.term.URIRef('http://www.semanticweb.org/city/in3067-inm713/2024/restaurants#Ricotta'),)\n",
      "(rdflib.term.URIRef('http://www.semanticweb.org/city/in3067-inm713/2024/restaurants#VegetarianIngredient'),)\n"
     ]
    }
   ],
   "source": [
    "# find the union of seafood ingredients and \n",
    "# vegetarian ingredients that aren't vegan\n",
    "query3 = open(\"data/queries/query3.txt\", 'r').read() \n",
    "qres3 = g.query(query3)                \n",
    "\n",
    "\n",
    "for row in qres3:\n",
    "    #Row is a list of matched RDF terms: URIs, literals or blank nodes\n",
    "    print(row)\n",
    "\n",
    "# save as csv\n",
    "qres3.serialize(destination = \"data/queries/result_sparql3.csv\", format = \"csv\")"
   ]
  },
  {
   "cell_type": "code",
   "execution_count": null,
   "id": "858bafe7",
   "metadata": {},
   "outputs": [
    {
     "name": "stdout",
     "output_type": "stream",
     "text": [
      "(rdflib.term.URIRef('http://www.semanticweb.org/city/in3067-inm713/2024/restaurants#cheese'), rdflib.term.Literal('116', datatype=rdflib.term.URIRef('http://www.w3.org/2001/XMLSchema#integer')))\n",
      "(rdflib.term.URIRef('http://www.semanticweb.org/city/in3067-inm713/2024/restaurants#pepper'), rdflib.term.Literal('65', datatype=rdflib.term.URIRef('http://www.w3.org/2001/XMLSchema#integer')))\n",
      "(rdflib.term.URIRef('http://www.semanticweb.org/city/in3067-inm713/2024/restaurants#mozzarella'), rdflib.term.Literal('59', datatype=rdflib.term.URIRef('http://www.w3.org/2001/XMLSchema#integer')))\n",
      "(rdflib.term.URIRef('http://www.semanticweb.org/city/in3067-inm713/2024/restaurants#chicken'), rdflib.term.Literal('54', datatype=rdflib.term.URIRef('http://www.w3.org/2001/XMLSchema#integer')))\n"
     ]
    }
   ],
   "source": [
    "# find the most common pizza ingredients\n",
    "# filter to ingredients on more than 50 pizzas\n",
    "# sort descending        \n",
    "query4 = open(\"data/queries/query4.txt\", 'r').read() \n",
    "qres4 = g.query(query4)\n",
    "\n",
    "for row in qres4:\n",
    "    #Row is a list of matched RDF terms: URIs, literals or blank nodes\n",
    "    print(row)\n",
    "\n",
    "# save as csv\n",
    "qres4.serialize(destination = \"data/queries/result_sparql4.csv\", format = \"csv\")"
   ]
  },
  {
   "cell_type": "code",
   "execution_count": null,
   "id": "97b84040",
   "metadata": {},
   "outputs": [
    {
     "name": "stdout",
     "output_type": "stream",
     "text": [
      "(rdflib.term.URIRef('http://www.semanticweb.org/city/in3067-inm713/2024/restaurants#ca'), rdflib.term.URIRef('http://www.semanticweb.org/city/in3067-inm713/2024/restaurants#san_diego'))\n",
      "(rdflib.term.URIRef('http://www.semanticweb.org/city/in3067-inm713/2024/restaurants#co'), rdflib.term.URIRef('http://www.semanticweb.org/city/in3067-inm713/2024/restaurants#arvada'))\n",
      "(rdflib.term.URIRef('http://www.semanticweb.org/city/in3067-inm713/2024/restaurants#co'), rdflib.term.URIRef('http://www.semanticweb.org/city/in3067-inm713/2024/restaurants#denver'))\n",
      "(rdflib.term.URIRef('http://www.semanticweb.org/city/in3067-inm713/2024/restaurants#de'), rdflib.term.URIRef('http://www.semanticweb.org/city/in3067-inm713/2024/restaurants#baltimore'))\n",
      "(rdflib.term.URIRef('http://www.semanticweb.org/city/in3067-inm713/2024/restaurants#de'), rdflib.term.URIRef('http://www.semanticweb.org/city/in3067-inm713/2024/restaurants#findlay'))\n",
      "(rdflib.term.URIRef('http://www.semanticweb.org/city/in3067-inm713/2024/restaurants#de'), rdflib.term.URIRef('http://www.semanticweb.org/city/in3067-inm713/2024/restaurants#mount_vernon'))\n",
      "(rdflib.term.URIRef('http://www.semanticweb.org/city/in3067-inm713/2024/restaurants#de'), rdflib.term.URIRef('http://www.semanticweb.org/city/in3067-inm713/2024/restaurants#newark'))\n",
      "(rdflib.term.URIRef('http://www.semanticweb.org/city/in3067-inm713/2024/restaurants#de'), rdflib.term.URIRef('http://www.semanticweb.org/city/in3067-inm713/2024/restaurants#wilmington'))\n",
      "(rdflib.term.URIRef('http://www.semanticweb.org/city/in3067-inm713/2024/restaurants#ks'), rdflib.term.URIRef('http://www.semanticweb.org/city/in3067-inm713/2024/restaurants#wichita'))\n",
      "(rdflib.term.URIRef('http://www.semanticweb.org/city/in3067-inm713/2024/restaurants#ma'), rdflib.term.URIRef('http://www.semanticweb.org/city/in3067-inm713/2024/restaurants#danvers'))\n",
      "(rdflib.term.URIRef('http://www.semanticweb.org/city/in3067-inm713/2024/restaurants#md'), rdflib.term.URIRef('http://www.semanticweb.org/city/in3067-inm713/2024/restaurants#westminster'))\n",
      "(rdflib.term.URIRef('http://www.semanticweb.org/city/in3067-inm713/2024/restaurants#ny'), rdflib.term.URIRef('http://www.semanticweb.org/city/in3067-inm713/2024/restaurants#white_plains'))\n",
      "(rdflib.term.URIRef('http://www.semanticweb.org/city/in3067-inm713/2024/restaurants#pa'), rdflib.term.URIRef('http://www.semanticweb.org/city/in3067-inm713/2024/restaurants#erie'))\n",
      "(rdflib.term.URIRef('http://www.semanticweb.org/city/in3067-inm713/2024/restaurants#pa'), rdflib.term.URIRef('http://www.semanticweb.org/city/in3067-inm713/2024/restaurants#philadelphia'))\n",
      "(rdflib.term.URIRef('http://www.semanticweb.org/city/in3067-inm713/2024/restaurants#tx'), rdflib.term.URIRef('http://www.semanticweb.org/city/in3067-inm713/2024/restaurants#austin'))\n",
      "(rdflib.term.URIRef('http://www.semanticweb.org/city/in3067-inm713/2024/restaurants#wa'), rdflib.term.URIRef('http://www.semanticweb.org/city/in3067-inm713/2024/restaurants#seattle'))\n"
     ]
    }
   ],
   "source": [
    "# finds cities with more than 3 restaurants\n",
    "# order by state, then city\n",
    "query5 = open(\"data/queries/query5.txt\", 'r').read() \n",
    "qres5 = g.query(query5)\n",
    "\n",
    "for row in qres5:\n",
    "    #Row is a list of matched RDF terms: URIs, literals or blank nodes\n",
    "    print(row)\n",
    "\n",
    "# save as csv\n",
    "qres5.serialize(destination = \"data/queries/result_sparql5.csv\", format = \"csv\")"
   ]
  },
  {
   "cell_type": "markdown",
   "id": "422c7b24",
   "metadata": {},
   "source": [
    "## 2.4 Ontology Alignment\n"
   ]
  },
  {
   "cell_type": "markdown",
   "id": "86f2035b",
   "metadata": {},
   "source": [
    "Here, we see how well two ontologies align. This part could be optimised by different measures of string simmilarity and thresholds.\n",
    "Note 1 = pizza - the provided KG, 2 = cw - our KG"
   ]
  },
  {
   "cell_type": "markdown",
   "id": "b04ca20b",
   "metadata": {},
   "source": [
    "#### Find similar items"
   ]
  },
  {
   "cell_type": "code",
   "execution_count": null,
   "id": "ae3ec0a0",
   "metadata": {},
   "outputs": [],
   "source": [
    "# load ontologies\n",
    "urionto1 = \"data/pizza.owl\"\n",
    "urionto2 = \"data/pizza-restaurants-ontology.owl\"\n",
    "\n",
    "# methods from owlready\n",
    "onto1 = get_ontology(urionto1).load()\n",
    "onto2 = get_ontology(urionto2).load()\n",
    "\n",
    "# only these two triple patterns are in the alignment comparison file\n",
    "def getClasses(onto):        \n",
    "    return onto.classes()\n",
    "        \n",
    "def getObjectProperties(onto):        \n",
    "    return onto.object_properties()"
   ]
  },
  {
   "cell_type": "code",
   "execution_count": null,
   "id": "4c00508a",
   "metadata": {},
   "outputs": [],
   "source": [
    "# function to find similar strings in two lists list, given a threshold\n",
    "# uses isub function to measure similarity, could use others\n",
    "def list_similar(list_a, list_b, threshold):\n",
    "    similar_list=[]\n",
    "    for i in list_a:\n",
    "        for j in list_b:\n",
    "            # if each match is above the threshold ...\n",
    "            if isub(i, j) > threshold:\n",
    "                # ... add to list\n",
    "                similar_list.append([i, j])\n",
    "    return similar_list"
   ]
  },
  {
   "cell_type": "code",
   "execution_count": null,
   "id": "d91298dd",
   "metadata": {},
   "outputs": [
    {
     "name": "stdout",
     "output_type": "stream",
     "text": [
      "pizza things 100\n",
      "cw things 151\n",
      "matched things 25\n"
     ]
    }
   ],
   "source": [
    "# get classes from the two ontologies\n",
    "classes1 = getClasses(onto1)\n",
    "classes2 = getClasses(onto2)\n",
    "\n",
    "# turn them into lists to iterate through\n",
    "class_list1 = [x.name for x in classes1]\n",
    "class_list2 = [x.name for x in classes2]\n",
    "\n",
    "# run function from above and print some metrics\n",
    "similar_classes = list_similar(class_list1, class_list2, 0.9)\n",
    "print(f\"pizza things {len(class_list1)}\")\n",
    "print(f\"cw things {len(class_list2)}\")\n",
    "print(f\"matched things {len(similar_classes)}\")"
   ]
  },
  {
   "cell_type": "code",
   "execution_count": null,
   "id": "6fcc965f",
   "metadata": {},
   "outputs": [
    {
     "name": "stdout",
     "output_type": "stream",
     "text": [
      "pizza things 8\n",
      "cw things 17\n",
      "matched things 2\n"
     ]
    }
   ],
   "source": [
    "# get object properties from the two ontologies\n",
    "op1 = getObjectProperties(onto1)\n",
    "op2 = getObjectProperties(onto2)\n",
    "\n",
    "# turn them into lists to iterate through\n",
    "op_list1 = [x.name for x in op1]\n",
    "op_list2 = [x.name for x in op2]\n",
    "\n",
    "# run function from above and print some metrics\n",
    "similar_op = list_similar(op_list1, op_list2, 0.9)\n",
    "print(f\"pizza things {len(op_list1)}\")\n",
    "print(f\"cw things {len(op_list2)}\")\n",
    "print(f\"matched things {len(similar_op)}\")"
   ]
  },
  {
   "cell_type": "markdown",
   "id": "f6e5fa25",
   "metadata": {},
   "source": [
    "#### Gather matches and transform to triples"
   ]
  },
  {
   "cell_type": "code",
   "execution_count": null,
   "id": "f528a3b5",
   "metadata": {},
   "outputs": [],
   "source": [
    "# function that takes a list of similar things and turns them into triples\n",
    "def equiv_things(namespace1, namespace2, relationship, similar_list):\n",
    "    ttl_list = []\n",
    "    for i in similar_list:\n",
    "        # we need to flip the order to get the correct comparison later\n",
    "        ttl_list.append(f\"{namespace2}.{i[1]},owl.{relationship},{namespace1}.{i[0]}\")\n",
    "    return ttl_list"
   ]
  },
  {
   "cell_type": "code",
   "execution_count": null,
   "id": "0bcf4a5f",
   "metadata": {},
   "outputs": [],
   "source": [
    "equiv_classes=equiv_things(\"pizza\", \"cw\", \"equivalentClass\", similar_classes)\n",
    "equiv_op=equiv_things(\"pizza\", \"cw\", \"equivalentProperty\", similar_op)"
   ]
  },
  {
   "cell_type": "code",
   "execution_count": null,
   "id": "d2209beb",
   "metadata": {},
   "outputs": [],
   "source": [
    "# create our graph of alignments\n",
    "g_align = Graph()\n",
    "\n",
    "# define our namespaces - there are only three\n",
    "pizza = Namespace(\"http://www.co-ode.org/ontologies/pizza/pizza.owl#\")\n",
    "owl = Namespace(\"http://www.w3.org/2002/07/owl#\")\n",
    "cw = Namespace(\"http://www.semanticweb.org/city/in3067-inm713/2024/restaurants#\")\n",
    "\n",
    "g_align.bind(\"pizza\", pizza) \n",
    "g_align.bind(\"owl\", owl) \n",
    "g_align.bind(\"cw\", cw) "
   ]
  },
  {
   "cell_type": "code",
   "execution_count": 85,
   "id": "40a605b5",
   "metadata": {},
   "outputs": [],
   "source": [
    "# add our alignment triples to the graph\n",
    "for i in equiv_classes:\n",
    "    g_align.add((eval(i)))\n",
    "\n",
    "for i in equiv_op:\n",
    "    g_align.add((eval(i)))"
   ]
  },
  {
   "cell_type": "markdown",
   "id": "63108ece",
   "metadata": {},
   "source": [
    "#### Export graph"
   ]
  },
  {
   "cell_type": "code",
   "execution_count": null,
   "id": "fed4e718",
   "metadata": {},
   "outputs": [
    {
     "data": {
      "text/plain": [
       "<Graph identifier=N26f4ab39ac8b408787a9c7f3de2204fa (<class 'rdflib.graph.Graph'>)>"
      ]
     },
     "execution_count": 86,
     "metadata": {},
     "output_type": "execute_result"
    }
   ],
   "source": [
    "# save the alignment graph\n",
    "g_align.serialize(destination =' data/output_graphs/g_align.ttl', format = 'ttl')"
   ]
  },
  {
   "cell_type": "markdown",
   "id": "e98d6aa2",
   "metadata": {},
   "source": [
    "#### Precision and recall\n",
    "Again, we do not optimise this!"
   ]
  },
  {
   "cell_type": "code",
   "execution_count": null,
   "id": "da0fbc57",
   "metadata": {},
   "outputs": [],
   "source": [
    "# we extend the code provided by Ernesto Jiménez-Ruiz from labs\n",
    "# https://github.com/city-knowledge-graphs/python-2024\n",
    "\n",
    "# calculate precision, recall and F1 from two graphs\n",
    "def compareWithReference(reference_mappings_file, system_mappings_file):\n",
    "    ref_mappings = Graph()\n",
    "    ref_mappings.parse(reference_mappings_file, format=\"ttl\")\n",
    "    \n",
    "    system_mappings = Graph()\n",
    "    system_mappings.parse(system_mappings_file, format=\"ttl\")\n",
    "    \n",
    "    #We calculate precision and recall via true positives, false positives and false negatives\n",
    "    #https://en.wikipedia.org/wiki/Precision_and_recall        \n",
    "    tp = 0\n",
    "    fp = 0\n",
    "    fn = 0\n",
    "    \n",
    "    for t in system_mappings:\n",
    "        if t in ref_mappings:\n",
    "            tp += 1\n",
    "        else:\n",
    "            fp += 1\n",
    "\n",
    "    for t in ref_mappings:\n",
    "        if not t in system_mappings:\n",
    "            fn += 1\n",
    "                    \n",
    "    precision = tp / (tp + fp)\n",
    "    recall = tp / (tp + fn)\n",
    "    f_score = (2 * precision * recall) / (precision + recall)\n",
    "\n",
    "    print(\"Comparing '\" + system_mappings_file + \"' with '\" + reference_mappings_file)\n",
    "    print(\"\\tPrecision: \" + str(precision))\n",
    "    print(\"\\tRecall: \" + str(recall))\n",
    "    print(\"\\tF-Score: \" + str(f_score))"
   ]
  },
  {
   "cell_type": "code",
   "execution_count": null,
   "id": "8ede5577",
   "metadata": {},
   "outputs": [
    {
     "name": "stdout",
     "output_type": "stream",
     "text": [
      "Comparing 'data/output_graphs/g_align.ttl' with 'data/reference-mappings-pizza.ttl\n",
      "\tPrecision: 0.6666666666666666\n",
      "\tRecall: 0.5454545454545454\n",
      "\tF-Score: 0.6\n"
     ]
    }
   ],
   "source": [
    "# function inputs\n",
    "reference_mappings = \"data/reference-mappings-pizza.ttl\"\n",
    "system_mappings = \"data/output_graphs/g_align.ttl\"\n",
    "# run function\n",
    "compareWithReference(reference_mappings, system_mappings)"
   ]
  }
 ],
 "metadata": {
  "kernelspec": {
   "display_name": "Python 3 (ipykernel)",
   "language": "python",
   "name": "python3"
  },
  "language_info": {
   "codemirror_mode": {
    "name": "ipython",
    "version": 3
   },
   "file_extension": ".py",
   "mimetype": "text/x-python",
   "name": "python",
   "nbconvert_exporter": "python",
   "pygments_lexer": "ipython3",
   "version": "3.12.0"
  }
 },
 "nbformat": 4,
 "nbformat_minor": 5
}
